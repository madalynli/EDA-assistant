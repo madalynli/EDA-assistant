{
 "cells": [
  {
   "cell_type": "markdown",
   "id": "17ade569",
   "metadata": {},
   "source": [
    "<h1>EDA-assistant Demo</h1>"
   ]
  },
  {
   "cell_type": "code",
   "execution_count": 1,
   "id": "dfca6f9c",
   "metadata": {},
   "outputs": [],
   "source": [
    "# Importing IFrame to display pdf output on this jupyter notebook\n",
    "from IPython.display import IFrame"
   ]
  },
  {
   "cell_type": "markdown",
   "id": "aaf1edb9",
   "metadata": {},
   "source": [
    "<h2>Example 1:</h2>"
   ]
  },
  {
   "cell_type": "markdown",
   "id": "2993aba3",
   "metadata": {},
   "source": [
    "Creating an EDA report for IRIS.csv</br>\n",
    "Data Source: [Iris Flower Dataset](https://www.kaggle.com/arshid/iris-flower-dataset)"
   ]
  },
  {
   "cell_type": "markdown",
   "id": "cc1643a9",
   "metadata": {},
   "source": [
    "<h3>Step 1:</h3></br>\n",
    "Import module from package"
   ]
  },
  {
   "cell_type": "code",
   "execution_count": 2,
   "id": "2293baaa",
   "metadata": {},
   "outputs": [],
   "source": [
    "from eda_assistant import eda_assistant"
   ]
  },
  {
   "cell_type": "markdown",
   "id": "e4b4c351",
   "metadata": {},
   "source": [
    "<h3>Step 2:</h3></br>\n",
    "Instantiate EDA object named iris_eda with the input of the iris data set named *IRIS.csv*"
   ]
  },
  {
   "cell_type": "code",
   "execution_count": 3,
   "id": "177fe7d1",
   "metadata": {},
   "outputs": [],
   "source": [
    "iris_eda = eda_assistant.EDA('IRIS.csv')"
   ]
  },
  {
   "cell_type": "markdown",
   "id": "cc918f3e",
   "metadata": {},
   "source": [
    "<h3>Step 3:</h3></br>\n",
    "Call the function *create_eda_report* with input of file name you want to save your generated pdf report as"
   ]
  },
  {
   "cell_type": "code",
   "execution_count": 4,
   "id": "c5907a4e",
   "metadata": {},
   "outputs": [],
   "source": [
    "iris_eda.create_eda_report('demo_iris_eda_report.pdf')"
   ]
  },
  {
   "cell_type": "markdown",
   "id": "752c4ac9",
   "metadata": {},
   "source": [
    "<h3>Step 4:</h3></br>\n",
    "Results from produced pdf report are displayed below for the purpose of this demonstration"
   ]
  },
  {
   "cell_type": "code",
   "execution_count": 5,
   "id": "f143a084",
   "metadata": {
    "scrolled": false
   },
   "outputs": [
    {
     "data": {
      "text/html": [
       "\n",
       "        <iframe\n",
       "            width=\"800\"\n",
       "            height=\"900\"\n",
       "            src=\"demo_iris_eda_report.pdf\"\n",
       "            frameborder=\"0\"\n",
       "            allowfullscreen\n",
       "            \n",
       "        ></iframe>\n",
       "        "
      ],
      "text/plain": [
       "<IPython.lib.display.IFrame at 0x7f9aac333760>"
      ]
     },
     "execution_count": 5,
     "metadata": {},
     "output_type": "execute_result"
    }
   ],
   "source": [
    "IFrame('demo_iris_eda_report.pdf', width=800, height=900)"
   ]
  },
  {
   "cell_type": "markdown",
   "id": "9af95cce",
   "metadata": {},
   "source": [
    "-----------------------------"
   ]
  },
  {
   "cell_type": "markdown",
   "id": "688b98d0",
   "metadata": {},
   "source": [
    "<h2>Example 2:</h2>"
   ]
  },
  {
   "cell_type": "markdown",
   "id": "f05f00f9",
   "metadata": {},
   "source": [
    "Creating an EDA report for WineQT.csv</br>\n",
    "Data Source: [Wine Quality](https://www.kaggle.com/beerhan/wine-quality/data)"
   ]
  },
  {
   "cell_type": "markdown",
   "id": "0f187141",
   "metadata": {},
   "source": [
    "<h3>Step 1:</h3></br>\n",
    "Instantiate EDA object named wine_eda with the input of the wine quality data set named *WineQT.csv*"
   ]
  },
  {
   "cell_type": "code",
   "execution_count": 6,
   "id": "0e06926b",
   "metadata": {},
   "outputs": [],
   "source": [
    "wine_eda = eda_assistant.EDA('WineQT.csv')"
   ]
  },
  {
   "cell_type": "markdown",
   "id": "755f2260",
   "metadata": {},
   "source": [
    "<h3>Step 2:</h3></br>\n",
    "Call the function *create_eda_report* with input of file name you want to save your generated pdf report as"
   ]
  },
  {
   "cell_type": "code",
   "execution_count": 7,
   "id": "21307f1f",
   "metadata": {},
   "outputs": [],
   "source": [
    "wine_eda.create_eda_report('demo_wine_eda_report.pdf')"
   ]
  },
  {
   "cell_type": "markdown",
   "id": "ee22a229",
   "metadata": {},
   "source": [
    "<h3>Step 4:</h3></br>\n",
    "Results from produced pdf report are displayed below for the purpose of this demonstration"
   ]
  },
  {
   "cell_type": "code",
   "execution_count": 8,
   "id": "8b753029",
   "metadata": {},
   "outputs": [
    {
     "data": {
      "text/html": [
       "\n",
       "        <iframe\n",
       "            width=\"800\"\n",
       "            height=\"900\"\n",
       "            src=\"demo_wine_eda_report.pdf\"\n",
       "            frameborder=\"0\"\n",
       "            allowfullscreen\n",
       "            \n",
       "        ></iframe>\n",
       "        "
      ],
      "text/plain": [
       "<IPython.lib.display.IFrame at 0x7f9aac340cd0>"
      ]
     },
     "execution_count": 8,
     "metadata": {},
     "output_type": "execute_result"
    }
   ],
   "source": [
    "IFrame(\"demo_wine_eda_report.pdf\", width=800, height=900)"
   ]
  },
  {
   "cell_type": "code",
   "execution_count": null,
   "id": "26750a45",
   "metadata": {},
   "outputs": [],
   "source": []
  }
 ],
 "metadata": {
  "kernelspec": {
   "display_name": "Python 3 (ipykernel)",
   "language": "python",
   "name": "python3"
  },
  "language_info": {
   "codemirror_mode": {
    "name": "ipython",
    "version": 3
   },
   "file_extension": ".py",
   "mimetype": "text/x-python",
   "name": "python",
   "nbconvert_exporter": "python",
   "pygments_lexer": "ipython3",
   "version": "3.9.7"
  }
 },
 "nbformat": 4,
 "nbformat_minor": 5
}
